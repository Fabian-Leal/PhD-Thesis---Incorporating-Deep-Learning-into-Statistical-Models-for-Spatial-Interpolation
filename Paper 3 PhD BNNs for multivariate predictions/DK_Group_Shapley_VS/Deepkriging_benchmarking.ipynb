{
 "cells": [
  {
   "cell_type": "code",
   "execution_count": 31,
   "metadata": {},
   "outputs": [],
   "source": [
    "from dk_model import DeepKrigingTrainer\n",
    "import pandas as pd \n",
    "\n",
    "import numpy as np\n",
    "from sklearn.model_selection import KFold\n",
    "from sklearn.linear_model import LinearRegression\n",
    "from pykrige.ok import OrdinaryKriging\n",
    "from sklearn.metrics import mean_squared_error, mean_absolute_error, r2_score"
   ]
  },
  {
   "cell_type": "code",
   "execution_count": 32,
   "metadata": {},
   "outputs": [],
   "source": [
    "deposit_data = pd.read_csv(\"../Curated_data/final_dataset_1_no_0.csv\", low_memory=False)\n"
   ]
  },
  {
   "cell_type": "code",
   "execution_count": 33,
   "metadata": {},
   "outputs": [],
   "source": [
    "total_columns = ['CP_Total','PO_Total', 'PY_Total']\n",
    "\n",
    "#all covariates\n",
    "covariates = total_columns[:3] + ['RQD_Pct', 'Cr_ppm'] "
   ]
  },
  {
   "cell_type": "code",
   "execution_count": 34,
   "metadata": {},
   "outputs": [],
   "source": [
    "phi_columns = deposit_data.columns[10:].tolist()\n"
   ]
  },
  {
   "cell_type": "markdown",
   "metadata": {},
   "source": [
    "# 1. Deepkriging and DNN"
   ]
  },
  {
   "cell_type": "code",
   "execution_count": 35,
   "metadata": {},
   "outputs": [
    {
     "name": "stdout",
     "output_type": "stream",
     "text": [
      "Metrics for Deepkriging\n",
      "\n",
      "Average Metrics Across Folds:\n",
      "  Average MSE: 0.0030\n",
      "  Average MAE: 0.0395\n",
      "  Average adjusted R2: 1.2264\n",
      "  STD MSE: 0.0004\n",
      "  STD MAE: 0.0025\n",
      "  STD adjusted R2: 0.0539\n",
      "\n",
      "Metrics for regular DNN\n",
      "\n",
      "Average Metrics Across Folds:\n",
      "  Average MSE: 0.0078\n",
      "  Average MAE: 0.0573\n",
      "  Average adjusted R2: 0.4918\n",
      "  STD MSE: 0.0027\n",
      "  STD MAE: 0.0067\n",
      "  STD adjusted R2: 0.1745\n",
      "\n",
      "Metrics for Deepkriging with covariates\n",
      "\n",
      "Average Metrics Across Folds:\n",
      "  Average MSE: 0.0026\n",
      "  Average MAE: 0.0353\n",
      "  Average adjusted R2: 1.1925\n",
      "  STD MSE: 0.0006\n",
      "  STD MAE: 0.0034\n",
      "  STD adjusted R2: 0.0620\n",
      "\n",
      "Metrics for regular DNN with covariates\n",
      "\n",
      "Average Metrics Across Folds:\n",
      "  Average MSE: 0.0066\n",
      "  Average MAE: 0.0534\n",
      "  Average adjusted R2: 0.5575\n",
      "  STD MSE: 0.0009\n",
      "  STD MAE: 0.0024\n",
      "  STD adjusted R2: 0.0804\n"
     ]
    }
   ],
   "source": [
    "print(\"Metrics for Deepkriging\")\n",
    "trainer = DeepKrigingTrainer(deposit_data, regular_nn=False, plot_errors=False)\n",
    "trainer.train_neural_network()\n",
    "\n",
    "print(\"\\nMetrics for regular DNN\")\n",
    "trainer = DeepKrigingTrainer(deposit_data, regular_nn=True, plot_errors=False)\n",
    "trainer.train_neural_network()\n",
    "\n",
    "print(\"\\nMetrics for Deepkriging with covariates\")\n",
    "trainer = DeepKrigingTrainer(deposit_data, covariates, regular_nn=False, plot_errors=False)\n",
    "trainer.train_neural_network()\n",
    "\n",
    "print(\"\\nMetrics for regular DNN with covariates\")\n",
    "trainer = DeepKrigingTrainer(deposit_data, covariates, regular_nn=True, plot_errors=False)\n",
    "trainer.train_neural_network()\n"
   ]
  },
  {
   "cell_type": "markdown",
   "metadata": {},
   "source": [
    "# 2. Reg kriging "
   ]
  },
  {
   "cell_type": "code",
   "execution_count": 36,
   "metadata": {},
   "outputs": [
    {
     "name": "stdout",
     "output_type": "stream",
     "text": [
      "Metrics for regression kriging with covariates\n",
      "\n",
      "Average Metrics Across Folds:\n",
      "  Average MSE: 0.0136\n",
      "  Average MAE: 0.0751\n",
      "  Average adjusted R2: 0.1016\n"
     ]
    }
   ],
   "source": [
    "np.random.seed(42)\n",
    "\n",
    "\n",
    "y = deposit_data['Density_gcm3'].values[:, np.newaxis]  # Keep variable as the output\n",
    "x = deposit_data[['X', 'Y', 'Z','CP_Total', 'PO_Total', 'PY_Total', 'RQD_Pct', 'Cr_ppm']].values\n",
    "nvars = 8\n",
    "x = x.reshape(len(deposit_data), nvars)\n",
    "\n",
    "num_folds = 10\n",
    "kf = KFold(n_splits=num_folds, shuffle=True, random_state=42)\n",
    "\n",
    "\n",
    "mse_list, mae_list, adjusted_r2_list = [], [], []\n",
    "\n",
    "for train_index, test_index in kf.split(x):\n",
    "    X_cv_train, X_cv_test = x[train_index], x[test_index]\n",
    "    y_cv_train, y_cv_test = y[train_index], y[test_index]\n",
    "\n",
    "    # Fit a linear regression model\n",
    "    regression_model = LinearRegression()\n",
    "    regression_model.fit(X_cv_train, y_cv_train)\n",
    "\n",
    "    # Predictions from the regression model\n",
    "    y_cv_pred = regression_model.predict(X_cv_test)\n",
    "\n",
    "    # Residuals (the difference between actual and predicted values)\n",
    "    residuals = y_cv_test - y_cv_pred\n",
    "\n",
    "    # Ordinary Kriging on residuals\n",
    "    ok = OrdinaryKriging(X_cv_test[:, 0], X_cv_test[:, 1], residuals, variogram_model='linear', verbose=False)\n",
    "    kriging_pred, _ = ok.execute('grid', X_cv_test[:, 0], X_cv_test[:, 1])\n",
    "\n",
    "\n",
    "    # Combine regression predictions with kriging predictions\n",
    "    final_cv_predictions = y_cv_pred + kriging_pred\n",
    "\n",
    "    # Calculate and store metrics\n",
    "    mse = np.mean((y_cv_test - final_cv_predictions) ** 2)\n",
    "    mae = np.mean(np.abs(y_cv_test - final_cv_predictions))\n",
    "    \n",
    " #   sst = np.mean((y_cv_test - np.mean(y_cv_test)) ** 2) * len(y_cv_test)\n",
    " #   ssr = np.mean((final_cv_predictions - y_cv_test) ** 2) * len(y_cv_test)\n",
    "    sst = np.mean((y_cv_test - np.mean(y_cv_test)) ** 2) \n",
    "    ssr = np.mean((final_cv_predictions - y_cv_test) ** 2) \n",
    "    r2 = 1 - (ssr / sst)\n",
    "    \n",
    "    # Calculate adjusted R-squared\n",
    "    n = len(y_cv_test)\n",
    "    num_predictors = X_cv_test.shape[1]\n",
    "    adjusted_r2 = 1 - ((1 - r2) * (n - 1) / (n - num_predictors - 1))\n",
    "\n",
    "    \n",
    "    mse_list.append(mse)\n",
    "    mae_list.append(mae)\n",
    "    adjusted_r2_list.append(adjusted_r2)\n",
    "\n",
    "# Calculate mean metrics across folds\n",
    "\n",
    "\n",
    "# Print average metrics across folds\n",
    "print(\"Metrics for regression kriging with covariates\")\n",
    "print(\"\\nAverage Metrics Across Folds:\")\n",
    "print(f\"  Average MSE: {np.mean(mse_list):.4f}\")\n",
    "print(f\"  Average MAE: {np.mean(mae_list):.4f}\")\n",
    "print(f\"  Average adjusted R2: {np.mean(adjusted_r2_list):.4f}\")\n",
    "\n"
   ]
  },
  {
   "cell_type": "code",
   "execution_count": 37,
   "metadata": {},
   "outputs": [
    {
     "name": "stdout",
     "output_type": "stream",
     "text": [
      "Metrics for kriging\n",
      "  Average MSE: 0.01437\n",
      "  Average MAE: 0.07750\n",
      "  Average adjusted R2: 0.08149\n"
     ]
    }
   ],
   "source": [
    "np.random.seed(42)\n",
    "\n",
    "y = deposit_data['Density_gcm3'].values[:, np.newaxis]  # Keep variable as the output\n",
    "x = deposit_data[['X', 'Y', 'Z']].values\n",
    "x = x.reshape(len(deposit_data), 3)\n",
    "\n",
    "mse_list = []\n",
    "mae_list = []\n",
    "test_adjusted_r2_list = []\n",
    "\n",
    "num_folds = 10\n",
    "kf = KFold(n_splits=num_folds, shuffle=True, random_state=42)\n",
    "\n",
    "for train_index, test_index in kf.split(x):\n",
    "    X_cv_train, X_cv_test = x[train_index], x[test_index]\n",
    "    y_cv_train, y_cv_test = y[train_index], y[test_index]\n",
    "\n",
    "    # Ordinary Kriging on residuals\n",
    "    ok = OrdinaryKriging(X_cv_test[:, 0], X_cv_test[:, 1], y_cv_test, variogram_model='linear', verbose=False)\n",
    "    kriging_pred, _ = ok.execute('grid', X_cv_test[:, 0], X_cv_test[:, 1])\n",
    "\n",
    "    final_cv_predictions =  kriging_pred\n",
    "\n",
    "    # Calculate and store metrics\n",
    "    mse = np.mean((y_cv_test - final_cv_predictions) ** 2)\n",
    "    mae = np.mean(np.abs(y_cv_test - final_cv_predictions))\n",
    "    mse_list.append(mse)\n",
    "    mae_list.append(mae)\n",
    "\n",
    "    n = len(y_cv_test)\n",
    "    sst = np.mean((y_cv_test - np.mean(y_cv_test)) ** 2)\n",
    "    ssr = np.mean((final_cv_predictions - y_cv_test) ** 2) \n",
    "    r2 = 1 - (ssr / sst)\n",
    "\n",
    "    \n",
    "    num_predictors = X_cv_test.shape[1]\n",
    "\n",
    "    adjusted_r2 = 1 - ((1 - r2) * (n - 1) / (n - num_predictors - 1))\n",
    "    test_adjusted_r2_list.append(adjusted_r2)\n",
    "\n",
    "# Calculate mean metrics across folds\n",
    "mean_mse = np.mean(mse_list)\n",
    "mean_mae = np.mean(mae_list)\n",
    "mean_a_r2 = np.mean(test_adjusted_r2_list)\n",
    "\n",
    "# Print average metrics across folds\n",
    "print(\"Metrics for kriging\")\n",
    "print(f\"  Average MSE: {mean_mse:.5f}\")\n",
    "print(f\"  Average MAE: {mean_mae:.5f}\")\n",
    "print(f\"  Average adjusted R2: {mean_a_r2:.5f}\")\n"
   ]
  }
 ],
 "metadata": {
  "kernelspec": {
   "display_name": "geostatistics",
   "language": "python",
   "name": "python3"
  },
  "language_info": {
   "codemirror_mode": {
    "name": "ipython",
    "version": 3
   },
   "file_extension": ".py",
   "mimetype": "text/x-python",
   "name": "python",
   "nbconvert_exporter": "python",
   "pygments_lexer": "ipython3",
   "version": "3.9.15"
  }
 },
 "nbformat": 4,
 "nbformat_minor": 2
}
